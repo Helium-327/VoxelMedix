{
 "cells": [
  {
   "cell_type": "code",
   "execution_count": 1,
   "metadata": {},
   "outputs": [],
   "source": [
    "import torch\n",
    "import numpy as np\n",
    "import torch.nn.functional as F\n",
    "from scipy.spatial.distance import directed_hausdorff\n",
    "\n",
    "def compute_hausdorff_distance(mask1, mask2):\n",
    "    \"\"\"\n",
    "    计算两个掩码之间的豪斯多夫距离。\n",
    "    \n",
    "    参数:\n",
    "    mask1 (torch.Tensor): 第一个掩码，形状为 (H, W) 或 (D, H, W)。\n",
    "    mask2 (torch.Tensor): 第二个掩码，形状为 (H, W) 或 (D, H, W)。\n",
    "    \n",
    "    返回:\n",
    "    float: 豪斯多夫距离。\n",
    "    \"\"\"\n",
    "    # 将掩码转换为点集\n",
    "    points1 = torch.nonzero(mask1).float()  # 获取非零元素的坐标\n",
    "    points2 = torch.nonzero(mask2).float()  # 获取非零元素的坐标\n",
    "    \n",
    "    # 将点集转换为 NumPy 数组，因为 scipy 的 directed_hausdorff 需要 NumPy 数组\n",
    "    points1_np = points1.cpu().numpy()\n",
    "    points2_np = points2.cpu().numpy()\n",
    "    \n",
    "    # 计算双向豪斯多夫距离\n",
    "    hd1 = directed_hausdorff(points1_np, points2_np)[0]\n",
    "    hd2 = directed_hausdorff(points2_np, points1_np)[0]\n",
    "    \n",
    "    # 取最大值作为豪斯多夫距离\n",
    "    hd = max(hd1, hd2)\n",
    "    \n",
    "    return hd\n",
    "\n",
    "def compute_h95(mask1, mask2):\n",
    "    \"\"\"\n",
    "    计算两个掩码之间的 H95 指标。\n",
    "    \n",
    "    参数:\n",
    "    mask1 (torch.Tensor): 第一个掩码，形状为 (H, W) 或 (D, H, W)。\n",
    "    mask2 (torch.Tensor): 第二个掩码，形状为 (H, W) 或 (D, H, W)。\n",
    "    \n",
    "    返回:\n",
    "    float: H95 指标。\n",
    "    \"\"\"\n",
    "    # 计算豪斯多夫距离\n",
    "    hd = compute_hausdorff_distance(mask1, mask2)\n",
    "    \n",
    "    # 计算 95 百分位数\n",
    "    h95 = np.percentile(hd, 95)\n",
    "    \n",
    "    return h95"
   ]
  },
  {
   "cell_type": "code",
   "execution_count": 2,
   "metadata": {},
   "outputs": [],
   "source": [
    "# from tqdm import tqdm\n",
    "# # 测试数据\n",
    "# batch_size = 2\n",
    "# num_classes = 4\n",
    "# spatial_dims = (128, 128, 128)\n",
    "\n",
    "# # 生成随机标签和预测张量\n",
    "# labels = torch.randint(0, 2, (batch_size, num_classes, *spatial_dims)).float()  # 标签\n",
    "# predictions = torch.randint(0, 2, (batch_size, num_classes, *spatial_dims)).float()  # 预测\n",
    "\n",
    "# # 计算每个样本和每个类别的 H95 指标\n",
    "# h95_results = torch.zeros(batch_size, num_classes)  # 存储 H95 结果\n",
    "\n",
    "# for i in tqdm(range(batch_size)):  # 遍历每个样本\n",
    "#     for j in tqdm(range(num_classes)):  # 遍历每个类别\n",
    "#         label_mask = labels[i, j]  # 获取当前样本和类别的标签掩码\n",
    "#         pred_mask = predictions[i, j]  # 获取当前样本和类别的预测掩码\n",
    "        \n",
    "#         # 计算 H95 指标\n",
    "#         h95 = compute_h95(label_mask, pred_mask)\n",
    "#         h95_results[i, j] = h95\n",
    "\n",
    "# print(\"H95 Results for each sample and class:\")\n",
    "# print(h95_results)"
   ]
  },
  {
   "cell_type": "code",
   "execution_count": 3,
   "metadata": {},
   "outputs": [
    {
     "data": {
      "text/plain": [
       "(torch.Size([2, 4, 128, 128, 128]), torch.Size([2, 4, 128, 128, 128]))"
      ]
     },
     "execution_count": 3,
     "metadata": {},
     "output_type": "execute_result"
    }
   ],
   "source": [
    "device = torch.device(\"cuda\" if torch.cuda.is_available() else \"cpu\")\n",
    "pred = torch.rand([2, 4, 128, 128, 128]).float().to(device=device)\n",
    "mask = torch.randint(0, 4, [2, 128, 128, 128])\n",
    "mask = F.one_hot(mask).permute(0, 4, 1, 2, 3).float().to(device=device)\n",
    "\n",
    "pred.shape, mask.shape\n"
   ]
  },
  {
   "cell_type": "code",
   "execution_count": 4,
   "metadata": {},
   "outputs": [],
   "source": [
    "# compute_h95(pred, mask)"
   ]
  },
  {
   "cell_type": "code",
   "execution_count": 11,
   "metadata": {},
   "outputs": [
    {
     "ename": "RuntimeError",
     "evalue": "view size is not compatible with input tensor's size and stride (at least one dimension spans across two contiguous subspaces). Use .reshape(...) instead.",
     "output_type": "error",
     "traceback": [
      "\u001b[0;31m---------------------------------------------------------------------------\u001b[0m",
      "\u001b[0;31mRuntimeError\u001b[0m                              Traceback (most recent call last)",
      "Cell \u001b[0;32mIn[11], line 1\u001b[0m\n\u001b[0;32m----> 1\u001b[0m distance \u001b[38;5;241m=\u001b[39m torch\u001b[38;5;241m.\u001b[39mcdist(pred\u001b[38;5;241m.\u001b[39mview(\u001b[38;5;241m2\u001b[39m, \u001b[38;5;241m-\u001b[39m\u001b[38;5;241m1\u001b[39m, \u001b[38;5;241m4\u001b[39m), \u001b[43mmask\u001b[49m\u001b[38;5;241;43m.\u001b[39;49m\u001b[43mview\u001b[49m\u001b[43m(\u001b[49m\u001b[38;5;241;43m2\u001b[39;49m\u001b[43m,\u001b[49m\u001b[43m \u001b[49m\u001b[38;5;241;43m-\u001b[39;49m\u001b[38;5;241;43m1\u001b[39;49m\u001b[43m,\u001b[49m\u001b[43m \u001b[49m\u001b[38;5;241;43m4\u001b[39;49m\u001b[43m)\u001b[49m)\n\u001b[1;32m      2\u001b[0m \u001b[38;5;66;03m# min_distance_pred_to_mask = torch.min(distance, dim=1)[0]\u001b[39;00m\n",
      "\u001b[0;31mRuntimeError\u001b[0m: view size is not compatible with input tensor's size and stride (at least one dimension spans across two contiguous subspaces). Use .reshape(...) instead."
     ]
    }
   ],
   "source": [
    "distance = torch.cdist(pred.view(2, -1, 4), mask.reshape(2, -1, 4).shape)\n",
    "# min_distance_pred_to_mask = torch.min(distance, dim=1)[0]\n"
   ]
  },
  {
   "cell_type": "code",
   "execution_count": 16,
   "metadata": {},
   "outputs": [
    {
     "data": {
      "text/plain": [
       "torch.Size([2, 2097152, 4])"
      ]
     },
     "execution_count": 16,
     "metadata": {},
     "output_type": "execute_result"
    }
   ],
   "source": [
    "mask.reshape(2, -1, 4).shape"
   ]
  },
  {
   "cell_type": "code",
   "execution_count": null,
   "metadata": {},
   "outputs": [],
   "source": []
  }
 ],
 "metadata": {
  "kernelspec": {
   "display_name": "cv",
   "language": "python",
   "name": "python3"
  },
  "language_info": {
   "codemirror_mode": {
    "name": "ipython",
    "version": 3
   },
   "file_extension": ".py",
   "mimetype": "text/x-python",
   "name": "python",
   "nbconvert_exporter": "python",
   "pygments_lexer": "ipython3",
   "version": "3.10.16"
  }
 },
 "nbformat": 4,
 "nbformat_minor": 2
}
